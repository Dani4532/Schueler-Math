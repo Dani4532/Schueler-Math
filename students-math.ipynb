{
 "cells": [
  {
   "cell_type": "markdown",
   "id": "124e6773",
   "metadata": {},
   "source": [
    "* school - student's school (binary: 'GP' - Gabriel Pereira or 'MS' - Mousinho da Silveira)\n",
    "* sex - student's sex (binary: 'F' - female or 'M' - male)\n",
    "* age - student's age (numeric: from 15 to 22)\n",
    "* address - student's home address type (binary: 'U' - urban or 'R' - rural)\n",
    "* famsize - family size (binary: 'LE3' - less or equal to 3 or 'GT3' - greater than 3)\n",
    "* Pstatus - parent's cohabitation status (binary: 'T' - living together or 'A' - apart)\n",
    "* Medu - mother's education (numeric: 0 - none, 1 - primary education (4th grade), 2 – 5th to 9th grade, 3 – secondary education or 4 – higher education)\n",
    "* Fedu - father's education (numeric: 0 - none, 1 - primary education (4th grade), 2 – 5th to 9th grade, 3 – secondary education or 4 – higher education)\n",
    "* Mjob - mother's job (nominal: 'teacher', 'health' care related, civil 'services' (e.g. administrative or police), 'at_home' or 'other')\n",
    "* Fjob - father's job (nominal: 'teacher', 'health' care related, civil 'services' (e.g. administrative or police), 'at_home' or 'other')\n",
    "* reason - reason to choose this school (nominal: close to 'home', school 'reputation', 'course' preference or 'other')\n",
    "* guardian - student's guardian (nominal: 'mother', 'father' or 'other')\n",
    "* traveltime - home to school travel time (numeric: 1 - <15 min., 2 - 15 to 30 min., 3 - 30 min. to 1 hour, or 4 - >1 hour)\n",
    "* studytime - weekly study time (numeric: 1 - <2 hours, 2 - 2 to 5 hours, 3 - 5 to 10 hours, or 4 - >10 hours)\n",
    "* failures - number of past class failures (numeric: n if 1<=n<3, else 4)\n",
    "* schoolsup - extra educational support (binary: yes or no)\n",
    "* famsup - family educational support (binary: yes or no)\n",
    "* paid - extra paid classes within the course subject (Math or Portuguese) (binary: yes or no)\n",
    "* activities - extra-curricular activities (binary: yes or no)\n",
    "* nursery - attended nursery school (binary: yes or no)\n",
    "* higher - wants to take higher education (binary: yes or no)\n",
    "* internet - Internet access at home (binary: yes or no)\n",
    "* romantic - with a romantic relationship (binary: yes or no)\n",
    "* famrel - quality of family relationships (numeric: from 1 - very bad to 5 - excellent)\n",
    "* freetime - free time after school (numeric: from 1 - very low to 5 - very high)\n",
    "* goout - going out with friends (numeric: from 1 - very low to 5 - very high)\n",
    "* Dalc - workday alcohol consumption (numeric: from 1 - very low to 5 - very high)\n",
    "* Walc - weekend alcohol consumption (numeric: from 1 - very low to 5 - very high)\n",
    "* health - current health status (numeric: from 1 - very bad to 5 - very good)\n",
    "* absences - number of school absences (numeric: from 0 to 93)\n",
    "\n",
    "\n",
    "* G1 - first period grade (numeric: from 0 to 20)\n",
    "* G2 - second period grade (numeric: from 0 to 20)\n",
    "* G3 - final grade (numeric: from 0 to 20, output target)"
   ]
  },
  {
   "cell_type": "markdown",
   "id": "d2719c33",
   "metadata": {},
   "source": [
    "## Erzeuge einen DataFrame aus `student-math.csv`"
   ]
  },
  {
   "cell_type": "code",
   "execution_count": 1,
   "id": "380f9f1c",
   "metadata": {
    "scrolled": true
   },
   "outputs": [
    {
     "data": {
      "text/plain": "    school sex  age address famsize Pstatus  Medu  Fedu      Mjob      Fjob  \\\n0       GP   F   18       U     GT3       A     4     4   at_home   teacher   \n1       GP   F   17       U     GT3       T     1     1   at_home     other   \n2       GP   F   15       U     LE3       T     1     1   at_home     other   \n3       GP   F   15       U     GT3       T     4     2    health  services   \n4       GP   F   16       U     GT3       T     3     3     other     other   \n..     ...  ..  ...     ...     ...     ...   ...   ...       ...       ...   \n390     MS   M   20       U     LE3       A     2     2  services  services   \n391     MS   M   17       U     LE3       T     3     1  services  services   \n392     MS   M   21       R     GT3       T     1     1     other     other   \n393     MS   M   18       R     LE3       T     3     2  services     other   \n394     MS   M   19       U     LE3       T     1     1     other   at_home   \n\n     ... famrel freetime  goout  Dalc  Walc health absences  G1  G2  G3  \n0    ...      4        3      4     1     1      3        6   5   6   6  \n1    ...      5        3      3     1     1      3        4   5   5   6  \n2    ...      4        3      2     2     3      3       10   7   8  10  \n3    ...      3        2      2     1     1      5        2  15  14  15  \n4    ...      4        3      2     1     2      5        4   6  10  10  \n..   ...    ...      ...    ...   ...   ...    ...      ...  ..  ..  ..  \n390  ...      5        5      4     4     5      4       11   9   9   9  \n391  ...      2        4      5     3     4      2        3  14  16  16  \n392  ...      5        5      3     3     3      3        3  10   8   7  \n393  ...      4        4      1     3     4      5        0  11  12  10  \n394  ...      3        2      3     3     3      5        5   8   9   9  \n\n[395 rows x 33 columns]",
      "text/html": "<div>\n<style scoped>\n    .dataframe tbody tr th:only-of-type {\n        vertical-align: middle;\n    }\n\n    .dataframe tbody tr th {\n        vertical-align: top;\n    }\n\n    .dataframe thead th {\n        text-align: right;\n    }\n</style>\n<table border=\"1\" class=\"dataframe\">\n  <thead>\n    <tr style=\"text-align: right;\">\n      <th></th>\n      <th>school</th>\n      <th>sex</th>\n      <th>age</th>\n      <th>address</th>\n      <th>famsize</th>\n      <th>Pstatus</th>\n      <th>Medu</th>\n      <th>Fedu</th>\n      <th>Mjob</th>\n      <th>Fjob</th>\n      <th>...</th>\n      <th>famrel</th>\n      <th>freetime</th>\n      <th>goout</th>\n      <th>Dalc</th>\n      <th>Walc</th>\n      <th>health</th>\n      <th>absences</th>\n      <th>G1</th>\n      <th>G2</th>\n      <th>G3</th>\n    </tr>\n  </thead>\n  <tbody>\n    <tr>\n      <th>0</th>\n      <td>GP</td>\n      <td>F</td>\n      <td>18</td>\n      <td>U</td>\n      <td>GT3</td>\n      <td>A</td>\n      <td>4</td>\n      <td>4</td>\n      <td>at_home</td>\n      <td>teacher</td>\n      <td>...</td>\n      <td>4</td>\n      <td>3</td>\n      <td>4</td>\n      <td>1</td>\n      <td>1</td>\n      <td>3</td>\n      <td>6</td>\n      <td>5</td>\n      <td>6</td>\n      <td>6</td>\n    </tr>\n    <tr>\n      <th>1</th>\n      <td>GP</td>\n      <td>F</td>\n      <td>17</td>\n      <td>U</td>\n      <td>GT3</td>\n      <td>T</td>\n      <td>1</td>\n      <td>1</td>\n      <td>at_home</td>\n      <td>other</td>\n      <td>...</td>\n      <td>5</td>\n      <td>3</td>\n      <td>3</td>\n      <td>1</td>\n      <td>1</td>\n      <td>3</td>\n      <td>4</td>\n      <td>5</td>\n      <td>5</td>\n      <td>6</td>\n    </tr>\n    <tr>\n      <th>2</th>\n      <td>GP</td>\n      <td>F</td>\n      <td>15</td>\n      <td>U</td>\n      <td>LE3</td>\n      <td>T</td>\n      <td>1</td>\n      <td>1</td>\n      <td>at_home</td>\n      <td>other</td>\n      <td>...</td>\n      <td>4</td>\n      <td>3</td>\n      <td>2</td>\n      <td>2</td>\n      <td>3</td>\n      <td>3</td>\n      <td>10</td>\n      <td>7</td>\n      <td>8</td>\n      <td>10</td>\n    </tr>\n    <tr>\n      <th>3</th>\n      <td>GP</td>\n      <td>F</td>\n      <td>15</td>\n      <td>U</td>\n      <td>GT3</td>\n      <td>T</td>\n      <td>4</td>\n      <td>2</td>\n      <td>health</td>\n      <td>services</td>\n      <td>...</td>\n      <td>3</td>\n      <td>2</td>\n      <td>2</td>\n      <td>1</td>\n      <td>1</td>\n      <td>5</td>\n      <td>2</td>\n      <td>15</td>\n      <td>14</td>\n      <td>15</td>\n    </tr>\n    <tr>\n      <th>4</th>\n      <td>GP</td>\n      <td>F</td>\n      <td>16</td>\n      <td>U</td>\n      <td>GT3</td>\n      <td>T</td>\n      <td>3</td>\n      <td>3</td>\n      <td>other</td>\n      <td>other</td>\n      <td>...</td>\n      <td>4</td>\n      <td>3</td>\n      <td>2</td>\n      <td>1</td>\n      <td>2</td>\n      <td>5</td>\n      <td>4</td>\n      <td>6</td>\n      <td>10</td>\n      <td>10</td>\n    </tr>\n    <tr>\n      <th>...</th>\n      <td>...</td>\n      <td>...</td>\n      <td>...</td>\n      <td>...</td>\n      <td>...</td>\n      <td>...</td>\n      <td>...</td>\n      <td>...</td>\n      <td>...</td>\n      <td>...</td>\n      <td>...</td>\n      <td>...</td>\n      <td>...</td>\n      <td>...</td>\n      <td>...</td>\n      <td>...</td>\n      <td>...</td>\n      <td>...</td>\n      <td>...</td>\n      <td>...</td>\n      <td>...</td>\n    </tr>\n    <tr>\n      <th>390</th>\n      <td>MS</td>\n      <td>M</td>\n      <td>20</td>\n      <td>U</td>\n      <td>LE3</td>\n      <td>A</td>\n      <td>2</td>\n      <td>2</td>\n      <td>services</td>\n      <td>services</td>\n      <td>...</td>\n      <td>5</td>\n      <td>5</td>\n      <td>4</td>\n      <td>4</td>\n      <td>5</td>\n      <td>4</td>\n      <td>11</td>\n      <td>9</td>\n      <td>9</td>\n      <td>9</td>\n    </tr>\n    <tr>\n      <th>391</th>\n      <td>MS</td>\n      <td>M</td>\n      <td>17</td>\n      <td>U</td>\n      <td>LE3</td>\n      <td>T</td>\n      <td>3</td>\n      <td>1</td>\n      <td>services</td>\n      <td>services</td>\n      <td>...</td>\n      <td>2</td>\n      <td>4</td>\n      <td>5</td>\n      <td>3</td>\n      <td>4</td>\n      <td>2</td>\n      <td>3</td>\n      <td>14</td>\n      <td>16</td>\n      <td>16</td>\n    </tr>\n    <tr>\n      <th>392</th>\n      <td>MS</td>\n      <td>M</td>\n      <td>21</td>\n      <td>R</td>\n      <td>GT3</td>\n      <td>T</td>\n      <td>1</td>\n      <td>1</td>\n      <td>other</td>\n      <td>other</td>\n      <td>...</td>\n      <td>5</td>\n      <td>5</td>\n      <td>3</td>\n      <td>3</td>\n      <td>3</td>\n      <td>3</td>\n      <td>3</td>\n      <td>10</td>\n      <td>8</td>\n      <td>7</td>\n    </tr>\n    <tr>\n      <th>393</th>\n      <td>MS</td>\n      <td>M</td>\n      <td>18</td>\n      <td>R</td>\n      <td>LE3</td>\n      <td>T</td>\n      <td>3</td>\n      <td>2</td>\n      <td>services</td>\n      <td>other</td>\n      <td>...</td>\n      <td>4</td>\n      <td>4</td>\n      <td>1</td>\n      <td>3</td>\n      <td>4</td>\n      <td>5</td>\n      <td>0</td>\n      <td>11</td>\n      <td>12</td>\n      <td>10</td>\n    </tr>\n    <tr>\n      <th>394</th>\n      <td>MS</td>\n      <td>M</td>\n      <td>19</td>\n      <td>U</td>\n      <td>LE3</td>\n      <td>T</td>\n      <td>1</td>\n      <td>1</td>\n      <td>other</td>\n      <td>at_home</td>\n      <td>...</td>\n      <td>3</td>\n      <td>2</td>\n      <td>3</td>\n      <td>3</td>\n      <td>3</td>\n      <td>5</td>\n      <td>5</td>\n      <td>8</td>\n      <td>9</td>\n      <td>9</td>\n    </tr>\n  </tbody>\n</table>\n<p>395 rows × 33 columns</p>\n</div>"
     },
     "execution_count": 1,
     "metadata": {},
     "output_type": "execute_result"
    }
   ],
   "source": [
    "# TODO\n",
    "import pandas as pd\n",
    "dataframe = pd.read_csv(\"./student-math.csv\", na_values=['Not Provided'])\n",
    "dataframe"
   ]
  },
  {
   "cell_type": "markdown",
   "id": "c7b1b319",
   "metadata": {},
   "source": [
    "## Ermittle nach Geschlechtern gruppiert den durchschnittlichen Alkoholkonsum"
   ]
  },
  {
   "cell_type": "code",
   "execution_count": 21,
   "id": "e4bf1a21",
   "metadata": {},
   "outputs": [
    {
     "name": "stdout",
     "output_type": "stream",
     "text": [
      "sex\n",
      "F    1.956731\n",
      "M    2.663102\n",
      "Name: Walc, dtype: float64 sex\n",
      "F    1.254808\n",
      "M    1.732620\n",
      "Name: Dalc, dtype: float64\n"
     ]
    },
    {
     "data": {
      "text/plain": "sex\nF    1.455357\nM    1.998472\ndtype: float64"
     },
     "execution_count": 21,
     "metadata": {},
     "output_type": "execute_result"
    }
   ],
   "source": [
    "# TODO\n",
    "a = dataframe.groupby(\"sex\")\n",
    "weekdayalc = a.Dalc.mean()\n",
    "weekendalc = a.Walc.mean()\n",
    "print(weekendalc,weekdayalc)\n",
    "alc = weekdayalc *(5/7) + weekendalc * (2/7)\n",
    "alc"
   ]
  },
  {
   "cell_type": "markdown",
   "id": "c4731e80",
   "metadata": {},
   "source": [
    "## Ermittle jene 3 Features, welche am meisten mit `G3` korrelieren, abgesehen von `G1` und `G2`\n"
   ]
  },
  {
   "cell_type": "code",
   "execution_count": 4,
   "id": "f7a18575",
   "metadata": {},
   "outputs": [
    {
     "data": {
      "text/plain": "failures    0.360415\nMedu        0.217147\nage         0.161579\nName: G3, dtype: float64"
     },
     "execution_count": 4,
     "metadata": {},
     "output_type": "execute_result"
    }
   ],
   "source": [
    "# TODO\n",
    "dataframe.corr().abs()[\"G3\"].sort_values(ascending=False).drop(labels=[\"G1\", \"G2\", \"G3\"]).head(3)"
   ]
  },
  {
   "cell_type": "markdown",
   "id": "acffb1d1",
   "metadata": {},
   "source": [
    "## Ermittle jene 3 Features, welche am meisten mit `Walc` korrelieren"
   ]
  },
  {
   "cell_type": "code",
   "execution_count": 5,
   "id": "b3ac28d7",
   "metadata": {},
   "outputs": [
    {
     "data": {
      "text/plain": "Dalc         0.647544\ngoout        0.420386\nstudytime    0.253785\nName: Walc, dtype: float64"
     },
     "execution_count": 5,
     "metadata": {},
     "output_type": "execute_result"
    }
   ],
   "source": [
    "# TODO\n",
    "dataframe.corr().abs()[\"Walc\"].sort_values(ascending=False).drop(labels=[\"Walc\"]).head(3)"
   ]
  },
  {
   "cell_type": "markdown",
   "id": "1483f9ae",
   "metadata": {},
   "source": [
    "## Ermittle die Absenzzahl jenes Schülers mit den meisten Absenzen, der trotzdem >= 10 G3 hat"
   ]
  },
  {
   "cell_type": "code",
   "execution_count": 6,
   "id": "78ba9bb0",
   "metadata": {
    "scrolled": true
   },
   "outputs": [
    {
     "data": {
      "text/plain": "54.0"
     },
     "execution_count": 6,
     "metadata": {},
     "output_type": "execute_result"
    }
   ],
   "source": [
    "# TODO\n",
    "dataframe.absences.where(dataframe.G3 >= 10).max()"
   ]
  },
  {
   "cell_type": "markdown",
   "id": "fdd63c7f",
   "metadata": {},
   "source": [
    "## Ermittle, ob die Schüler mit mehr als 18 Punkten eher aus dem ruralen oder aus dem urbanen Raum kommen"
   ]
  },
  {
   "cell_type": "code",
   "execution_count": 7,
   "id": "eb3a3a6b",
   "metadata": {},
   "outputs": [
    {
     "data": {
      "text/plain": "address\nR     3\nU    15\nName: G3, dtype: int64"
     },
     "execution_count": 7,
     "metadata": {},
     "output_type": "execute_result"
    }
   ],
   "source": [
    "# TODO\n",
    "dataframe.where(dataframe.G3 >= 18).groupby(by=\"address\").G3.count()"
   ]
  },
  {
   "cell_type": "markdown",
   "id": "682a40af",
   "metadata": {},
   "source": [
    "## Versuche, folgende Behauptung zu widerlegen:\n",
    "\"Dass die Eltern unter einem Dach leben ist sehr wichtig für eine **herausragende** Mathematiknote, immerhin leben doppelt so viele dieser Schüler mit **beiden** Eltern zusammen\""
   ]
  },
  {
   "cell_type": "code",
   "execution_count": 8,
   "id": "d99e821f",
   "metadata": {
    "scrolled": false
   },
   "outputs": [
    {
     "data": {
      "text/plain": "T    14\nA     4\nName: Pstatus, dtype: int64"
     },
     "execution_count": 8,
     "metadata": {},
     "output_type": "execute_result"
    }
   ],
   "source": [
    "# TODO\n",
    "dataframe.Pstatus.where(dataframe.G3 >= 18).value_counts()"
   ]
  },
  {
   "cell_type": "code",
   "execution_count": 9,
   "outputs": [
    {
     "data": {
      "text/plain": "T    0.896203\nA    0.103797\nName: Pstatus, dtype: float64"
     },
     "execution_count": 9,
     "metadata": {},
     "output_type": "execute_result"
    }
   ],
   "source": [
    "dataframe.Pstatus.value_counts() / len(dataframe)"
   ],
   "metadata": {
    "collapsed": false
   }
  },
  {
   "attachments": {
    "image.png": {
     "image/png": "[encoded data removed]"
    }
   },
   "cell_type": "markdown",
   "id": "1ef0c7ba",
   "metadata": {},
   "source": [
    "## Erzeuge folgende Graphik, welche die Punkte nach Adresse darstellt\n",
    "![img.png](./assets/img.png)"
   ]
  },
  {
   "cell_type": "code",
   "execution_count": 10,
   "id": "a67dc27d",
   "metadata": {
    "scrolled": true
   },
   "outputs": [
    {
     "data": {
      "text/plain": "<AxesSubplot:xlabel='G3', ylabel='count'>"
     },
     "execution_count": 10,
     "metadata": {},
     "output_type": "execute_result"
    },
    {
     "data": {
      "text/plain": "<Figure size 640x480 with 1 Axes>",
      "image/png": "[encoded data removed]"
     },
     "metadata": {},
     "output_type": "display_data"
    }
   ],
   "source": [
    "# TODO\n",
    "import seaborn as sns\n",
    "sns.countplot(data=dataframe, x=\"G3\", hue=\"address\",dodge=False)"
   ]
  },
  {
   "cell_type": "markdown",
   "id": "443aa45d",
   "metadata": {},
   "source": [
    "## Ermittle die durchschnittliche Punktzahl aller Schüler, bei denen Mutter und Vater derselben Berufsgruppe angehören, gruppiert nach Berufsgruppe"
   ]
  },
  {
   "cell_type": "code",
   "execution_count": 11,
   "id": "5a71474d",
   "metadata": {},
   "outputs": [
    {
     "data": {
      "text/plain": "Fjob\nat_home     12.285714\nhealth      13.500000\nother        9.798077\nservices    10.767442\nteacher     13.083333\nName: G3, dtype: float64"
     },
     "execution_count": 11,
     "metadata": {},
     "output_type": "execute_result"
    }
   ],
   "source": [
    "# TODO\n",
    "dataframe.where(dataframe.Mjob == dataframe.Fjob).groupby(\"Fjob\").G3.mean()"
   ]
  },
  {
   "cell_type": "markdown",
   "id": "4fbcd052",
   "metadata": {},
   "source": [
    "## Ersetze fehlende Werte durch den **Median** der jeweiligen `address`"
   ]
  },
  {
   "cell_type": "code",
   "execution_count": 12,
   "id": "7635f8ac",
   "metadata": {},
   "outputs": [
    {
     "data": {
      "text/plain": "    school sex  age address famsize Pstatus  Medu  Fedu      Mjob      Fjob  \\\n0       GP   F   18       U     GT3       A     4     4   at_home   teacher   \n1       GP   F   17       U     GT3       T     1     1   at_home     other   \n2       GP   F   15       U     LE3       T     1     1   at_home     other   \n3       GP   F   15       U     GT3       T     4     2    health  services   \n4       GP   F   16       U     GT3       T     3     3     other     other   \n..     ...  ..  ...     ...     ...     ...   ...   ...       ...       ...   \n390     MS   M   20       U     LE3       A     2     2  services  services   \n391     MS   M   17       U     LE3       T     3     1  services  services   \n392     MS   M   21       R     GT3       T     1     1     other     other   \n393     MS   M   18       R     LE3       T     3     2  services     other   \n394     MS   M   19       U     LE3       T     1     1     other   at_home   \n\n     ... famrel freetime  goout  Dalc  Walc health absences  G1  G2  G3  \n0    ...      4        3      4     1     1      3        6   5   6   6  \n1    ...      5        3      3     1     1      3        4   5   5   6  \n2    ...      4        3      2     2     3      3       10   7   8  10  \n3    ...      3        2      2     1     1      5        2  15  14  15  \n4    ...      4        3      2     1     2      5        4   6  10  10  \n..   ...    ...      ...    ...   ...   ...    ...      ...  ..  ..  ..  \n390  ...      5        5      4     4     5      4       11   9   9   9  \n391  ...      2        4      5     3     4      2        3  14  16  16  \n392  ...      5        5      3     3     3      3        3  10   8   7  \n393  ...      4        4      1     3     4      5        0  11  12  10  \n394  ...      3        2      3     3     3      5        5   8   9   9  \n\n[395 rows x 33 columns]",
      "text/html": "<div>\n<style scoped>\n    .dataframe tbody tr th:only-of-type {\n        vertical-align: middle;\n    }\n\n    .dataframe tbody tr th {\n        vertical-align: top;\n    }\n\n    .dataframe thead th {\n        text-align: right;\n    }\n</style>\n<table border=\"1\" class=\"dataframe\">\n  <thead>\n    <tr style=\"text-align: right;\">\n      <th></th>\n      <th>school</th>\n      <th>sex</th>\n      <th>age</th>\n      <th>address</th>\n      <th>famsize</th>\n      <th>Pstatus</th>\n      <th>Medu</th>\n      <th>Fedu</th>\n      <th>Mjob</th>\n      <th>Fjob</th>\n      <th>...</th>\n      <th>famrel</th>\n      <th>freetime</th>\n      <th>goout</th>\n      <th>Dalc</th>\n      <th>Walc</th>\n      <th>health</th>\n      <th>absences</th>\n      <th>G1</th>\n      <th>G2</th>\n      <th>G3</th>\n    </tr>\n  </thead>\n  <tbody>\n    <tr>\n      <th>0</th>\n      <td>GP</td>\n      <td>F</td>\n      <td>18</td>\n      <td>U</td>\n      <td>GT3</td>\n      <td>A</td>\n      <td>4</td>\n      <td>4</td>\n      <td>at_home</td>\n      <td>teacher</td>\n      <td>...</td>\n      <td>4</td>\n      <td>3</td>\n      <td>4</td>\n      <td>1</td>\n      <td>1</td>\n      <td>3</td>\n      <td>6</td>\n      <td>5</td>\n      <td>6</td>\n      <td>6</td>\n    </tr>\n    <tr>\n      <th>1</th>\n      <td>GP</td>\n      <td>F</td>\n      <td>17</td>\n      <td>U</td>\n      <td>GT3</td>\n      <td>T</td>\n      <td>1</td>\n      <td>1</td>\n      <td>at_home</td>\n      <td>other</td>\n      <td>...</td>\n      <td>5</td>\n      <td>3</td>\n      <td>3</td>\n      <td>1</td>\n      <td>1</td>\n      <td>3</td>\n      <td>4</td>\n      <td>5</td>\n      <td>5</td>\n      <td>6</td>\n    </tr>\n    <tr>\n      <th>2</th>\n      <td>GP</td>\n      <td>F</td>\n      <td>15</td>\n      <td>U</td>\n      <td>LE3</td>\n      <td>T</td>\n      <td>1</td>\n      <td>1</td>\n      <td>at_home</td>\n      <td>other</td>\n      <td>...</td>\n      <td>4</td>\n      <td>3</td>\n      <td>2</td>\n      <td>2</td>\n      <td>3</td>\n      <td>3</td>\n      <td>10</td>\n      <td>7</td>\n      <td>8</td>\n      <td>10</td>\n    </tr>\n    <tr>\n      <th>3</th>\n      <td>GP</td>\n      <td>F</td>\n      <td>15</td>\n      <td>U</td>\n      <td>GT3</td>\n      <td>T</td>\n      <td>4</td>\n      <td>2</td>\n      <td>health</td>\n      <td>services</td>\n      <td>...</td>\n      <td>3</td>\n      <td>2</td>\n      <td>2</td>\n      <td>1</td>\n      <td>1</td>\n      <td>5</td>\n      <td>2</td>\n      <td>15</td>\n      <td>14</td>\n      <td>15</td>\n    </tr>\n    <tr>\n      <th>4</th>\n      <td>GP</td>\n      <td>F</td>\n      <td>16</td>\n      <td>U</td>\n      <td>GT3</td>\n      <td>T</td>\n      <td>3</td>\n      <td>3</td>\n      <td>other</td>\n      <td>other</td>\n      <td>...</td>\n      <td>4</td>\n      <td>3</td>\n      <td>2</td>\n      <td>1</td>\n      <td>2</td>\n      <td>5</td>\n      <td>4</td>\n      <td>6</td>\n      <td>10</td>\n      <td>10</td>\n    </tr>\n    <tr>\n      <th>...</th>\n      <td>...</td>\n      <td>...</td>\n      <td>...</td>\n      <td>...</td>\n      <td>...</td>\n      <td>...</td>\n      <td>...</td>\n      <td>...</td>\n      <td>...</td>\n      <td>...</td>\n      <td>...</td>\n      <td>...</td>\n      <td>...</td>\n      <td>...</td>\n      <td>...</td>\n      <td>...</td>\n      <td>...</td>\n      <td>...</td>\n      <td>...</td>\n      <td>...</td>\n      <td>...</td>\n    </tr>\n    <tr>\n      <th>390</th>\n      <td>MS</td>\n      <td>M</td>\n      <td>20</td>\n      <td>U</td>\n      <td>LE3</td>\n      <td>A</td>\n      <td>2</td>\n      <td>2</td>\n      <td>services</td>\n      <td>services</td>\n      <td>...</td>\n      <td>5</td>\n      <td>5</td>\n      <td>4</td>\n      <td>4</td>\n      <td>5</td>\n      <td>4</td>\n      <td>11</td>\n      <td>9</td>\n      <td>9</td>\n      <td>9</td>\n    </tr>\n    <tr>\n      <th>391</th>\n      <td>MS</td>\n      <td>M</td>\n      <td>17</td>\n      <td>U</td>\n      <td>LE3</td>\n      <td>T</td>\n      <td>3</td>\n      <td>1</td>\n      <td>services</td>\n      <td>services</td>\n      <td>...</td>\n      <td>2</td>\n      <td>4</td>\n      <td>5</td>\n      <td>3</td>\n      <td>4</td>\n      <td>2</td>\n      <td>3</td>\n      <td>14</td>\n      <td>16</td>\n      <td>16</td>\n    </tr>\n    <tr>\n      <th>392</th>\n      <td>MS</td>\n      <td>M</td>\n      <td>21</td>\n      <td>R</td>\n      <td>GT3</td>\n      <td>T</td>\n      <td>1</td>\n      <td>1</td>\n      <td>other</td>\n      <td>other</td>\n      <td>...</td>\n      <td>5</td>\n      <td>5</td>\n      <td>3</td>\n      <td>3</td>\n      <td>3</td>\n      <td>3</td>\n      <td>3</td>\n      <td>10</td>\n      <td>8</td>\n      <td>7</td>\n    </tr>\n    <tr>\n      <th>393</th>\n      <td>MS</td>\n      <td>M</td>\n      <td>18</td>\n      <td>R</td>\n      <td>LE3</td>\n      <td>T</td>\n      <td>3</td>\n      <td>2</td>\n      <td>services</td>\n      <td>other</td>\n      <td>...</td>\n      <td>4</td>\n      <td>4</td>\n      <td>1</td>\n      <td>3</td>\n      <td>4</td>\n      <td>5</td>\n      <td>0</td>\n      <td>11</td>\n      <td>12</td>\n      <td>10</td>\n    </tr>\n    <tr>\n      <th>394</th>\n      <td>MS</td>\n      <td>M</td>\n      <td>19</td>\n      <td>U</td>\n      <td>LE3</td>\n      <td>T</td>\n      <td>1</td>\n      <td>1</td>\n      <td>other</td>\n      <td>at_home</td>\n      <td>...</td>\n      <td>3</td>\n      <td>2</td>\n      <td>3</td>\n      <td>3</td>\n      <td>3</td>\n      <td>5</td>\n      <td>5</td>\n      <td>8</td>\n      <td>9</td>\n      <td>9</td>\n    </tr>\n  </tbody>\n</table>\n<p>395 rows × 33 columns</p>\n</div>"
     },
     "execution_count": 12,
     "metadata": {},
     "output_type": "execute_result"
    }
   ],
   "source": [
    "# TODO\n",
    "newDataframe = pd.DataFrame.copy(dataframe)\n",
    "newDataframe.traveltime.fillna(newDataframe.groupby(\"address\").traveltime.transform(\"median\"), inplace=True)\n",
    "newDataframe"
   ]
  }
 ],
 "metadata": {
  "kernelspec": {
   "display_name": "Python 3",
   "language": "python",
   "name": "python3"
  },
  "language_info": {
   "codemirror_mode": {
    "name": "ipython",
    "version": 3
   },
   "file_extension": ".py",
   "mimetype": "text/x-python",
   "name": "python",
   "nbconvert_exporter": "python",
   "pygments_lexer": "ipython3",
   "version": "3.8.8"
  }
 },
 "nbformat": 4,
 "nbformat_minor": 5
}
